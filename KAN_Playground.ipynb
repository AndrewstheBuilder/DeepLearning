{
  "nbformat": 4,
  "nbformat_minor": 0,
  "metadata": {
    "colab": {
      "provenance": [],
      "gpuType": "T4",
      "authorship_tag": "ABX9TyN6+MaNcfuQu6z7eRozomk4",
      "include_colab_link": true
    },
    "kernelspec": {
      "name": "python3",
      "display_name": "Python 3"
    },
    "language_info": {
      "name": "python"
    },
    "accelerator": "GPU"
  },
  "cells": [
    {
      "cell_type": "markdown",
      "metadata": {
        "id": "view-in-github",
        "colab_type": "text"
      },
      "source": [
        "<a href=\"https://colab.research.google.com/github/AndrewstheBuilder/DeepLearning/blob/main/KAN_Playground.ipynb\" target=\"_parent\"><img src=\"https://colab.research.google.com/assets/colab-badge.svg\" alt=\"Open In Colab\"/></a>"
      ]
    },
    {
      "cell_type": "code",
      "execution_count": null,
      "metadata": {
        "id": "qksJtd8m0a1z"
      },
      "outputs": [],
      "source": [
        "!pip install pykan"
      ]
    },
    {
      "cell_type": "code",
      "source": [
        "import torch\n",
        "from kan import *\n",
        "import matplotlib.pyplot as plt"
      ],
      "metadata": {
        "id": "qnpHjrMK0eHw"
      },
      "execution_count": null,
      "outputs": []
    },
    {
      "cell_type": "code",
      "source": [],
      "metadata": {
        "id": "mo_40l6c0hif"
      },
      "execution_count": null,
      "outputs": []
    }
  ]
}
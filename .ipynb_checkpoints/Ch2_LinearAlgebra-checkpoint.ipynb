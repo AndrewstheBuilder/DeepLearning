{
 "cells": [
  {
   "cell_type": "markdown",
   "metadata": {},
   "source": [
    "A * A^-1 = I_n with n being the number of vectors"
   ]
  },
  {
   "cell_type": "code",
   "execution_count": 1,
   "metadata": {},
   "outputs": [],
   "source": [
    "import numpy as np"
   ]
  },
  {
   "cell_type": "code",
   "execution_count": 19,
   "metadata": {},
   "outputs": [
    {
     "name": "stdout",
     "output_type": "stream",
     "text": [
      "A [[0 1 2]\n",
      " [3 4 5]]\n",
      "b [0 1 2]\n",
      "A dot b [ 5 14]\n",
      "A.shape (2, 3)\n",
      "b.shape (3,)\n",
      "res.shape (2,)\n"
     ]
    }
   ],
   "source": [
    "A = np.arange(6).reshape(2,3)\n",
    "print('A',A)\n",
    "b = np.arange(3)\n",
    "print('b',b)\n",
    "res = np.dot(A,b)\n",
    "print('A dot b',res)\n",
    "print('A.shape',A.shape)\n",
    "print('b.shape',b.shape)\n",
    "print('res.shape',res.shape)\n",
    "# This shows that numpy takes the 1D vecor and duplicates row wise and then takes the product at each column and sum the values for the columns together.\n",
    "# This generates a value for each row. ce\\\n",
    "# print('Inverse of Matrix A',np.power(A,-1))\n",
    "# np.dot(A, A^-1)"
   ]
  },
  {
   "cell_type": "code",
   "execution_count": 22,
   "metadata": {},
   "outputs": [
    {
     "data": {
      "text/plain": [
       "array([ 3, 12])"
      ]
     },
     "execution_count": 22,
     "metadata": {},
     "output_type": "execute_result"
    }
   ],
   "source": [
    "np.sum(A, axis=1)"
   ]
  },
  {
   "cell_type": "code",
   "execution_count": 23,
   "metadata": {},
   "outputs": [
    {
     "name": "stdout",
     "output_type": "stream",
     "text": [
      "27\n",
      "27\n"
     ]
    }
   ],
   "source": [
    "# The triangle inequality\n",
    "# f(x+y) <= f(x) + f(y)\n",
    "def f(x):\n",
    "    return x * 3\n",
    "print(f(6) + f(3))\n",
    "print(f(6+3))    "
   ]
  },
  {
   "cell_type": "code",
   "execution_count": 43,
   "metadata": {},
   "outputs": [
    {
     "name": "stdout",
     "output_type": "stream",
     "text": [
      "505.18709405526187\n",
      "User Defined L2 Norm:\n",
      "Numpy L2 Norm:\n",
      "505.18709405526187\n"
     ]
    }
   ],
   "source": [
    "def L2_Norm(x):\n",
    "    '''\n",
    "    L2 norm is to find the size of a vector. 1D element.\n",
    "    [1,2,3,4] for example.\n",
    "    We are taking the Euclidean Distance between the points and the origin.\n",
    "    '''\n",
    "    x = np.power(x,2)\n",
    "    x = np.sqrt(np.sum(x))\n",
    "#     print('User Defined L2 Norm:')\n",
    "#     print(x)\n",
    "    return x\n",
    "m = [1,2,3,60,40,500]\n",
    "print(L2_Norm(m))\n",
    "print('User Defined L2 Norm:')\n",
    "print('Numpy L2 Norm:')\n",
    "print(np.linalg.norm(m))\n"
   ]
  },
  {
   "cell_type": "code",
   "execution_count": 54,
   "metadata": {},
   "outputs": [
    {
     "name": "stdout",
     "output_type": "stream",
     "text": [
      "Input [[[ 0  1  2  3  4  5  6  7]\n",
      "  [ 8  9 10 11 12 13 14 15]\n",
      "  [16 17 18 19 20 21 22 23]\n",
      "  [24 25 26 27 28 29 30 31]]\n",
      "\n",
      " [[32 33 34 35 36 37 38 39]\n",
      "  [40 41 42 43 44 45 46 47]\n",
      "  [48 49 50 51 52 53 54 55]\n",
      "  [56 57 58 59 60 61 62 63]]]\n",
      "Numpy linalg norm\n",
      "292.1369541841634\n",
      "User Implemented Frobenius Norm for 2D matrix\n",
      "292.1369541841634\n"
     ]
    }
   ],
   "source": [
    " def Frobenius_Norm(m):\n",
    "    '''\n",
    "    measure the size of a matrix\n",
    "    Analogous to L2 Norm for Vectors\n",
    "    '''\n",
    "    m = np.power(m,2)\n",
    "    m = np.sum(m)\n",
    "#     print('m after first sum',m)\n",
    "    return np.sqrt(m)\n",
    "x = np.arange(64).reshape(2,4,8)\n",
    "print('Input',x)\n",
    "print('Numpy linalg norm')\n",
    "print(np.linalg.norm(x))\n",
    "print('User Implemented Frobenius Norm for 2D matrix')\n",
    "print(Frobenius_Norm(x))\n",
    "# sum = 0\n",
    "# for i in x:"
   ]
  },
  {
   "cell_type": "code",
   "execution_count": 65,
   "metadata": {},
   "outputs": [
    {
     "name": "stdout",
     "output_type": "stream",
     "text": [
      "x [[  1.   1.   1.   1.   1.]\n",
      " [100.   1.   1.   1.   1.]\n",
      " [  1.   1.   1.   1.   1.]\n",
      " [  1.   1.   1.   1.   1.]\n",
      " [  1.   1.   1.   1.   1.]]\n",
      "False\n",
      "y [[1. 1. 1. 1. 1. 1.]\n",
      " [1. 1. 1. 1. 1. 1.]\n",
      " [1. 1. 1. 1. 1. 1.]\n",
      " [1. 1. 1. 1. 1. 1.]\n",
      " [1. 1. 1. 1. 1. 1.]\n",
      " [1. 1. 1. 1. 1. 1.]]\n",
      "True\n"
     ]
    }
   ],
   "source": [
    "# Check if a matrix is symmetric\n",
    "def is_symmetric(A):\n",
    "    return np.array_equal(A, A.T)\n",
    "x = np.ones((5,5))\n",
    "y = np.ones((6,6))\n",
    "x[1][0]=100\n",
    "print('x',x)\n",
    "print(is_symmetric(x))\n",
    "print('y',y)\n",
    "print(is_symmetric(y))"
   ]
  },
  {
   "cell_type": "code",
   "execution_count": null,
   "metadata": {},
   "outputs": [],
   "source": [
    "# Invert a matrix\n",
    "def invert_matrix(A):\n",
    "    '''\n",
    "    There is a numpy.linalg.inv function that does this\n",
    "    But the computer does not represent the inverse of a matrix well. \n",
    "    It does not represent it accurately because of the decimal places\n",
    "    '''"
   ]
  }
 ],
 "metadata": {
  "kernelspec": {
   "display_name": "Python 3",
   "language": "python",
   "name": "python3"
  },
  "language_info": {
   "codemirror_mode": {
    "name": "ipython",
    "version": 3
   },
   "file_extension": ".py",
   "mimetype": "text/x-python",
   "name": "python",
   "nbconvert_exporter": "python",
   "pygments_lexer": "ipython3",
   "version": "3.8.5"
  }
 },
 "nbformat": 4,
 "nbformat_minor": 4
}
